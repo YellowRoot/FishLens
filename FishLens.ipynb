{
  "cells": [
    {
      "cell_type": "markdown",
      "metadata": {
        "id": "view-in-github",
        "colab_type": "text"
      },
      "source": [
        "<a href=\"https://colab.research.google.com/github/YellowRoot/FishLens/blob/main/FishLens.ipynb\" target=\"_parent\"><img src=\"https://colab.research.google.com/assets/colab-badge.svg\" alt=\"Open In Colab\"/></a>"
      ]
    },
    {
      "cell_type": "markdown",
      "metadata": {
        "id": "_acWuaTvyR_G"
      },
      "source": [
        "# **Imports**"
      ]
    },
    {
      "cell_type": "code",
      "execution_count": 3,
      "metadata": {
        "id": "wwHoysMiyRjO"
      },
      "outputs": [],
      "source": [
        "import tensorflow as tf\n",
        "from tensorflow.keras.applications import VGG16\n",
        "from tensorflow.keras.preprocessing.image import ImageDataGenerator\n",
        "from tensorflow.keras.callbacks import ModelCheckpoint, EarlyStopping\n",
        "from tensorflow.keras.preprocessing import image\n",
        "from tensorflow.keras.applications.vgg16 import preprocess_input\n",
        "from tqdm import tqdm\n",
        "import numpy as np"
      ]
    },
    {
      "cell_type": "markdown",
      "metadata": {
        "id": "Vx2WY_GjyWxT"
      },
      "source": [
        "# **Loading Dataset**"
      ]
    },
    {
      "cell_type": "code",
      "execution_count": 4,
      "metadata": {
        "colab": {
          "base_uri": "https://localhost:8080/"
        },
        "id": "ebfM6rbmyNzn",
        "outputId": "bbbaa446-3dd1-4341-c9d0-28d59a350992"
      },
      "outputs": [
        {
          "output_type": "stream",
          "name": "stdout",
          "text": [
            "Mounted at /content/gdrive\n"
          ]
        }
      ],
      "source": [
        "from google.colab import drive\n",
        "drive.mount('/content/gdrive')"
      ]
    },
    {
      "cell_type": "markdown",
      "metadata": {
        "id": "Qz4LAlXw2lVA"
      },
      "source": [
        "# **Import the images**"
      ]
    },
    {
      "cell_type": "code",
      "execution_count": 5,
      "metadata": {
        "colab": {
          "base_uri": "https://localhost:8080/"
        },
        "id": "C-kPGUbuzkH5",
        "outputId": "81c4a2b6-f745-4ba1-bf51-55b34025ee1a"
      },
      "outputs": [
        {
          "output_type": "stream",
          "name": "stdout",
          "text": [
            "Found 4500 images belonging to 9 classes.\n",
            "Found 4500 images belonging to 9 classes.\n"
          ]
        }
      ],
      "source": [
        "# File path\n",
        "dataset = \"/content/gdrive/MyDrive/Colab_Notebooks/Datasets/Fish_Dataset\"\n",
        "\n",
        "# Create data generators\n",
        "train_data = ImageDataGenerator(rescale=1./255, preprocessing_function=tf.keras.applications.vgg16.preprocess_input)\n",
        "test_data = ImageDataGenerator(rescale=1./255, preprocessing_function=tf.keras.applications.vgg16.preprocess_input)\n",
        "\n",
        "train_generator = train_data.flow_from_directory(directory=(dataset + \"/Training\"),\n",
        "                                                target_size=(224, 224),\n",
        "                                                batch_size=32,\n",
        "                                                class_mode='categorical')\n",
        "\n",
        "test_generator = test_data.flow_from_directory(directory=(dataset + \"/Testing\"),\n",
        "                                              target_size=(224, 224),\n",
        "                                              batch_size=32,\n",
        "                                              class_mode='categorical')"
      ]
    },
    {
      "cell_type": "markdown",
      "metadata": {
        "id": "XHK1ZrBiFzxg"
      },
      "source": [
        "# **Initialize the model**"
      ]
    },
    {
      "cell_type": "code",
      "execution_count": 6,
      "metadata": {
        "id": "v25XZ8kAEzFA",
        "colab": {
          "base_uri": "https://localhost:8080/"
        },
        "outputId": "ea675986-fca7-42f4-9390-4617c9b48e23"
      },
      "outputs": [
        {
          "output_type": "stream",
          "name": "stdout",
          "text": [
            "Downloading data from https://storage.googleapis.com/tensorflow/keras-applications/vgg16/vgg16_weights_tf_dim_ordering_tf_kernels_notop.h5\n",
            "58889256/58889256 [==============================] - 4s 0us/step\n"
          ]
        }
      ],
      "source": [
        "# Load pre-trained VGG16 model\n",
        "base_model = VGG16(weights='imagenet', include_top=False, input_shape=(224, 224, 3))\n",
        "\n",
        "# Freeze the pre-trained layers\n",
        "for layer in base_model.layers:\n",
        "    layer.trainable = False\n",
        "\n",
        "# Add your own classification layers\n",
        "model = tf.keras.models.Sequential([\n",
        "    base_model,\n",
        "    tf.keras.layers.Flatten(),\n",
        "    tf.keras.layers.Dense(4096, activation='relu'),\n",
        "    tf.keras.layers.Dense(4096, activation='relu'),\n",
        "    tf.keras.layers.Dense(9, activation='softmax')\n",
        "])\n",
        "\n",
        "# Compile the model\n",
        "model.compile(optimizer=tf.keras.optimizers.Adam(learning_rate=0.001),\n",
        "              loss='categorical_crossentropy',\n",
        "              metrics=['accuracy'])"
      ]
    },
    {
      "cell_type": "markdown",
      "metadata": {
        "id": "io53pqiAJCbK"
      },
      "source": [
        "# **Model Summary**"
      ]
    },
    {
      "cell_type": "code",
      "execution_count": 7,
      "metadata": {
        "colab": {
          "base_uri": "https://localhost:8080/"
        },
        "id": "iKYU0HLhJMOs",
        "outputId": "0a305bf6-24dd-4a07-b27d-ab8084cb36a1"
      },
      "outputs": [
        {
          "output_type": "stream",
          "name": "stdout",
          "text": [
            "Model: \"sequential\"\n",
            "_________________________________________________________________\n",
            " Layer (type)                Output Shape              Param #   \n",
            "=================================================================\n",
            " vgg16 (Functional)          (None, 7, 7, 512)         14714688  \n",
            "                                                                 \n",
            " flatten (Flatten)           (None, 25088)             0         \n",
            "                                                                 \n",
            " dense (Dense)               (None, 4096)              102764544 \n",
            "                                                                 \n",
            " dense_1 (Dense)             (None, 4096)              16781312  \n",
            "                                                                 \n",
            " dense_2 (Dense)             (None, 9)                 36873     \n",
            "                                                                 \n",
            "=================================================================\n",
            "Total params: 134,297,417\n",
            "Trainable params: 119,582,729\n",
            "Non-trainable params: 14,714,688\n",
            "_________________________________________________________________\n"
          ]
        }
      ],
      "source": [
        "model.summary()"
      ]
    },
    {
      "cell_type": "markdown",
      "metadata": {
        "id": "QqrXIBboKhtM"
      },
      "source": [
        "# **Model Training**\n",
        "### `Implement a callback system to monitor and control training`"
      ]
    },
    {
      "cell_type": "code",
      "execution_count": null,
      "metadata": {
        "colab": {
          "background_save": true,
          "base_uri": "https://localhost:8080/"
        },
        "id": "PmvafKYOeN0x",
        "outputId": "da1e0303-6062-48bd-de0f-815f1f771aa5"
      },
      "outputs": [
        {
          "output_type": "stream",
          "name": "stderr",
          "text": [
            "Epoch 1/100:   0%|          | 0/100 [00:00<?, ?epoch/s]"
          ]
        },
        {
          "output_type": "stream",
          "name": "stdout",
          "text": [
            " 14/141 [=>............................] - ETA: 45:44 - loss: 14.5062 - accuracy: 0.1652"
          ]
        }
      ],
      "source": [
        "from keras.callbacks import ModelCheckpoint, EarlyStopping\n",
        "\n",
        "# Set up callbacks\n",
        "check = ModelCheckpoint(\"vgg16_1.h5\", monitor='val_accuracy', verbose=1, save_best_only=True, mode='max')\n",
        "stop = EarlyStopping(monitor='val_accuracy', patience=20, verbose=1, mode='max', min_delta=0.001)\n",
        "\n",
        "# Train the model\n",
        "num_epochs = 100\n",
        "batch_size = 32\n",
        "steps_per_epoch = len(train_generator) // batch_size\n",
        "validation_steps = len(test_generator) // batch_size\n",
        "\n",
        "# Use tqdm for progress monitoring\n",
        "with tqdm(total=num_epochs, unit=\"epoch\") as pbar:\n",
        "    for epoch in range(num_epochs):\n",
        "        pbar.set_description(f\"Epoch {epoch+1}/{num_epochs}\")\n",
        "        history = model.fit(train_generator, epochs=1, callbacks=[check, stop], validation_data=test_generator, workers=1, use_multiprocessing=False)\n",
        "        pbar.update(1)\n",
        "\n",
        "        # Check if validation accuracy reaches the desired level\n",
        "        if history.history['val_accuracy'][0] >= 0.85:  # Desired accuracy threshold\n",
        "            print(\"Validation accuracy reached the desired level. Stopping training.\")\n",
        "            break"
      ]
    },
    {
      "cell_type": "markdown",
      "source": [
        "## **Test the Model**"
      ],
      "metadata": {
        "id": "1oyifB4mlb9y"
      }
    },
    {
      "cell_type": "code",
      "execution_count": null,
      "metadata": {
        "colab": {
          "background_save": true
        },
        "id": "fR-ZnJWuJPWU"
      },
      "outputs": [],
      "source": [
        "# Load the trained model\n",
        "model = tf.keras.models.load_model(\"vgg16_1.h5\")\n",
        "\n",
        "# Load and preprocess the image\n",
        "img_path = dataset + \"/Predict/1.png\"  # Replace with the path to your image\n",
        "img = image.load_img(img_path, target_size=(224, 224))\n",
        "x = image.img_to_array(img)\n",
        "x = np.expand_dims(x, axis=0)\n",
        "x = preprocess_input(x)\n",
        "\n",
        "# Make predictions\n",
        "predictions = model.predict(x)\n",
        "class_labels = ['Black Sea Sprat', 'Gilt-Head Bream', 'Hourse Mackerel', 'Red Mullet', 'Red Sea Bream', 'Sea Brass', 'Shrimp', 'Striped Red Mullet', 'Trout']  # Replace with your class labels\n",
        "\n",
        "# Print predicted class probabilities\n",
        "for i, prob in enumerate(predictions[0]):\n",
        "    print(f\"{class_labels[i]}: {prob}\")\n",
        "\n",
        "# Get the predicted class label\n",
        "predicted_class_index = np.argmax(predictions[0])\n",
        "predicted_class = class_labels[predicted_class_index]\n",
        "\n",
        "print(\"Predicted class:\", predicted_class)"
      ]
    }
  ],
  "metadata": {
    "colab": {
      "provenance": [],
      "gpuType": "T4",
      "authorship_tag": "ABX9TyNLd7Cneei/lGj6NDhubm7T",
      "include_colab_link": true
    },
    "kernelspec": {
      "display_name": "Python 3",
      "name": "python3"
    },
    "language_info": {
      "name": "python"
    },
    "accelerator": "GPU"
  },
  "nbformat": 4,
  "nbformat_minor": 0
}